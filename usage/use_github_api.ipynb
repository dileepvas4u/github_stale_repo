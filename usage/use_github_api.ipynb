{
 "cells": [
  {
   "cell_type": "code",
   "execution_count": null,
   "id": "fe1557aa-c9a4-4672-b4cc-542cf63972bd",
   "metadata": {},
   "outputs": [],
   "source": [
    "%load_ext autoreload\n",
    "%autoreload 2"
   ]
  },
  {
   "cell_type": "code",
   "execution_count": null,
   "id": "6d285ac2-f959-446b-8791-09b4a0f5165e",
   "metadata": {},
   "outputs": [],
   "source": [
    "import logging\n",
    "import json\n",
    "import os"
   ]
  },
  {
   "cell_type": "code",
   "execution_count": null,
   "id": "e5942112-9d7f-4b5c-a830-982d814967af",
   "metadata": {},
   "outputs": [],
   "source": [
    "logging.basicConfig()\n",
    "logging.root.setLevel(logging.INFO)"
   ]
  },
  {
   "cell_type": "code",
   "execution_count": null,
   "id": "341d0e8a-8f32-49c0-8b5f-c2666e43fa82",
   "metadata": {},
   "outputs": [],
   "source": [
    "from git_util import GitAPI"
   ]
  },
  {
   "cell_type": "code",
   "execution_count": null,
   "id": "08a9c1e5-a33d-413d-afb1-a1ebc8def558",
   "metadata": {},
   "outputs": [],
   "source": [
    "## make sure access token is available in environment\n",
    "# os.environ['GIT_ACCESS_TOKEN'] = '<access token here>'"
   ]
  },
  {
   "cell_type": "code",
   "execution_count": null,
   "id": "eaafa2af-22f2-4f87-a4d4-eb479db6596d",
   "metadata": {},
   "outputs": [],
   "source": [
    "## test accounts\n",
    "user_name_1 = 'octocat'\n",
    "repo_name_1 = 'Spoon-Knife'\n",
    "\n",
    "user_name_2 = 'thonny'\n",
    "repo_name_2 = 'thonny'\n",
    "\n",
    "user_name_3 = 'dileepvas4u'\n",
    "repo_name_3 = 'git_test'"
   ]
  },
  {
   "cell_type": "code",
   "execution_count": null,
   "id": "ebb5c9af-0046-4a8a-805f-d6384e8a27b5",
   "metadata": {},
   "outputs": [],
   "source": [
    "git_api = GitAPI(user_name_3, repo_name_3)"
   ]
  },
  {
   "cell_type": "code",
   "execution_count": null,
   "id": "32701ae5-6335-4003-aaf6-9e29b923cc63",
   "metadata": {},
   "outputs": [],
   "source": [
    "branches = git_api.list_branches()\n",
    "for branch in branches:\n",
    "    branch_info = git_api.get_branch_info(branch)\n",
    "    print(json.dumps(branch_info, indent=1), end='\\n\\n')"
   ]
  },
  {
   "cell_type": "code",
   "execution_count": null,
   "id": "48880ca4-b408-4870-911e-61dba14a8b7b",
   "metadata": {},
   "outputs": [],
   "source": []
  }
 ],
 "metadata": {
  "kernelspec": {
   "display_name": "Python [conda env:root]",
   "language": "python",
   "name": "conda-root-py"
  },
  "language_info": {
   "codemirror_mode": {
    "name": "ipython",
    "version": 3
   },
   "file_extension": ".py",
   "mimetype": "text/x-python",
   "name": "python",
   "nbconvert_exporter": "python",
   "pygments_lexer": "ipython3",
   "version": "3.9.12"
  }
 },
 "nbformat": 4,
 "nbformat_minor": 5
}
